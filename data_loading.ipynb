{
 "cells": [
  {
   "cell_type": "code",
   "execution_count": 4,
   "id": "3e0ebe56",
   "metadata": {},
   "outputs": [],
   "source": [
    "import pandas as pd\n",
    "import numpy as np\n",
    "import matplotlib.pyplot as plt\n",
    "import seaborn as sns\n",
    "\n",
    "\n",
    "pd.set_option('display.max_columns',None)\n",
    "sns.set(style='whitegrid')"
   ]
  },
  {
   "cell_type": "code",
   "execution_count": 8,
   "id": "3a371a07",
   "metadata": {},
   "outputs": [
    {
     "name": "stdout",
     "output_type": "stream",
     "text": [
      "(13627493, 6)\n"
     ]
    }
   ],
   "source": [
    "# Load all csvs\n",
    "\n",
    "crm_df = pd.read_csv(r\"C:\\Users\\harsh\\OneDrive\\Desktop\\data analysis\\Revenue_leakage and KPI analytics project\\data\\raw\\crm1.csv\")\n",
    "print(crm_df.shape)"
   ]
  },
  {
   "cell_type": "code",
   "execution_count": 10,
   "id": "24e036f5",
   "metadata": {},
   "outputs": [],
   "source": [
    "device_df = pd.read_csv(r\"C:\\Users\\harsh\\OneDrive\\Desktop\\data analysis\\Revenue_leakage and KPI analytics project\\data\\raw\\device1.csv\")\n",
    "rev_df = pd.read_csv(r\"C:\\Users\\harsh\\OneDrive\\Desktop\\data analysis\\Revenue_leakage and KPI analytics project\\data\\raw\\rev1.csv\")\n",
    "assurance_df = pd.read_csv(r\"C:\\Users\\harsh\\OneDrive\\Desktop\\data analysis\\Revenue_leakage and KPI analytics project\\data\\raw\\telecom_revenue_assurance_dataset.csv\")\n"
   ]
  },
  {
   "cell_type": "code",
   "execution_count": 11,
   "id": "e1f290b2",
   "metadata": {},
   "outputs": [
    {
     "name": "stdout",
     "output_type": "stream",
     "text": [
      "CRM Data shape:  (13627493, 6)\n",
      "Device Data shape:  (2440100, 6)\n",
      "Revenue Data shape:  (1704601, 3)\n"
     ]
    },
    {
     "data": {
      "text/html": [
       "<div>\n",
       "<style scoped>\n",
       "    .dataframe tbody tr th:only-of-type {\n",
       "        vertical-align: middle;\n",
       "    }\n",
       "\n",
       "    .dataframe tbody tr th {\n",
       "        vertical-align: top;\n",
       "    }\n",
       "\n",
       "    .dataframe thead th {\n",
       "        text-align: right;\n",
       "    }\n",
       "</style>\n",
       "<table border=\"1\" class=\"dataframe\">\n",
       "  <thead>\n",
       "    <tr style=\"text-align: right;\">\n",
       "      <th></th>\n",
       "      <th>msisdn</th>\n",
       "      <th>gender</th>\n",
       "      <th>year_of_birth</th>\n",
       "      <th>system_status</th>\n",
       "      <th>mobile_type</th>\n",
       "      <th>value_segment</th>\n",
       "    </tr>\n",
       "  </thead>\n",
       "  <tbody>\n",
       "    <tr>\n",
       "      <th>0</th>\n",
       "      <td>aeef4233d9ad34e41f7ecf48d64646f8</td>\n",
       "      <td>MALE</td>\n",
       "      <td>1985.0</td>\n",
       "      <td>ACTIVE</td>\n",
       "      <td>Prepaid</td>\n",
       "      <td>Tier_3</td>\n",
       "    </tr>\n",
       "    <tr>\n",
       "      <th>1</th>\n",
       "      <td>2397d009e705bc8a2654cbb3f480cc59</td>\n",
       "      <td>MALE</td>\n",
       "      <td>1958.0</td>\n",
       "      <td>ACTIVE</td>\n",
       "      <td>Prepaid</td>\n",
       "      <td>Tier_3</td>\n",
       "    </tr>\n",
       "    <tr>\n",
       "      <th>2</th>\n",
       "      <td>6f05d738919f9283322bae17dc366bf5</td>\n",
       "      <td>MALE</td>\n",
       "      <td>1976.0</td>\n",
       "      <td>ACTIVE</td>\n",
       "      <td>Prepaid</td>\n",
       "      <td>Tier_3</td>\n",
       "    </tr>\n",
       "    <tr>\n",
       "      <th>3</th>\n",
       "      <td>45352d9d126f86f40c7eee79a82c833c</td>\n",
       "      <td>MALE</td>\n",
       "      <td>1996.0</td>\n",
       "      <td>ACTIVE</td>\n",
       "      <td>Prepaid</td>\n",
       "      <td>Tier_3</td>\n",
       "    </tr>\n",
       "    <tr>\n",
       "      <th>4</th>\n",
       "      <td>959b00a279e2785cfa81728338c324f7</td>\n",
       "      <td>FEMALE</td>\n",
       "      <td>1960.0</td>\n",
       "      <td>ACTIVE</td>\n",
       "      <td>Prepaid</td>\n",
       "      <td>Tier_3</td>\n",
       "    </tr>\n",
       "  </tbody>\n",
       "</table>\n",
       "</div>"
      ],
      "text/plain": [
       "                             msisdn  gender  year_of_birth system_status  \\\n",
       "0  aeef4233d9ad34e41f7ecf48d64646f8    MALE         1985.0        ACTIVE   \n",
       "1  2397d009e705bc8a2654cbb3f480cc59    MALE         1958.0        ACTIVE   \n",
       "2  6f05d738919f9283322bae17dc366bf5    MALE         1976.0        ACTIVE   \n",
       "3  45352d9d126f86f40c7eee79a82c833c    MALE         1996.0        ACTIVE   \n",
       "4  959b00a279e2785cfa81728338c324f7  FEMALE         1960.0        ACTIVE   \n",
       "\n",
       "  mobile_type value_segment  \n",
       "0     Prepaid        Tier_3  \n",
       "1     Prepaid        Tier_3  \n",
       "2     Prepaid        Tier_3  \n",
       "3     Prepaid        Tier_3  \n",
       "4     Prepaid        Tier_3  "
      ]
     },
     "metadata": {},
     "output_type": "display_data"
    },
    {
     "data": {
      "text/html": [
       "<div>\n",
       "<style scoped>\n",
       "    .dataframe tbody tr th:only-of-type {\n",
       "        vertical-align: middle;\n",
       "    }\n",
       "\n",
       "    .dataframe tbody tr th {\n",
       "        vertical-align: top;\n",
       "    }\n",
       "\n",
       "    .dataframe thead th {\n",
       "        text-align: right;\n",
       "    }\n",
       "</style>\n",
       "<table border=\"1\" class=\"dataframe\">\n",
       "  <thead>\n",
       "    <tr style=\"text-align: right;\">\n",
       "      <th></th>\n",
       "      <th>msisdn</th>\n",
       "      <th>imei_tac</th>\n",
       "      <th>brand_name</th>\n",
       "      <th>model_name</th>\n",
       "      <th>os_name</th>\n",
       "      <th>os_vendor</th>\n",
       "    </tr>\n",
       "  </thead>\n",
       "  <tbody>\n",
       "    <tr>\n",
       "      <th>0</th>\n",
       "      <td>c0e80ecc67484f293db0cf723146c9d6</td>\n",
       "      <td>7ce90a5469d6a07dc8c770956cc29482</td>\n",
       "      <td>SAMSUNG</td>\n",
       "      <td>GALAXY J1 ACE (SM-J111F)</td>\n",
       "      <td>Android</td>\n",
       "      <td>Google</td>\n",
       "    </tr>\n",
       "    <tr>\n",
       "      <th>1</th>\n",
       "      <td>2bce0cd398cbc9b2478ecaf1ef62b2c1</td>\n",
       "      <td>110f73736e1e1fe0ef5cb8a581bc0ec2</td>\n",
       "      <td>WALTON</td>\n",
       "      <td>OLVIO L22</td>\n",
       "      <td>NaN</td>\n",
       "      <td>NaN</td>\n",
       "    </tr>\n",
       "    <tr>\n",
       "      <th>2</th>\n",
       "      <td>d7b8b49fafb853a3aef0c20d49bca845</td>\n",
       "      <td>ddf90b7c597d7714637ecde342a8c609</td>\n",
       "      <td>LG</td>\n",
       "      <td>W1500</td>\n",
       "      <td>LG OS</td>\n",
       "      <td>LG</td>\n",
       "    </tr>\n",
       "    <tr>\n",
       "      <th>3</th>\n",
       "      <td>d628f3b548dc74c5fde92323c61c819e</td>\n",
       "      <td>c395eac49569e6741faf98284aef725c</td>\n",
       "      <td>SYMPHONY</td>\n",
       "      <td>B13</td>\n",
       "      <td>NaN</td>\n",
       "      <td>NaN</td>\n",
       "    </tr>\n",
       "    <tr>\n",
       "      <th>4</th>\n",
       "      <td>e33e767a53a8dceadebc3354221bbf6a</td>\n",
       "      <td>395b163b071e5880e66ac57c5768673e</td>\n",
       "      <td>SAMSUNG</td>\n",
       "      <td>METRO SM-B350ED</td>\n",
       "      <td>Samsung OS</td>\n",
       "      <td>Samsung</td>\n",
       "    </tr>\n",
       "  </tbody>\n",
       "</table>\n",
       "</div>"
      ],
      "text/plain": [
       "                             msisdn                          imei_tac  \\\n",
       "0  c0e80ecc67484f293db0cf723146c9d6  7ce90a5469d6a07dc8c770956cc29482   \n",
       "1  2bce0cd398cbc9b2478ecaf1ef62b2c1  110f73736e1e1fe0ef5cb8a581bc0ec2   \n",
       "2  d7b8b49fafb853a3aef0c20d49bca845  ddf90b7c597d7714637ecde342a8c609   \n",
       "3  d628f3b548dc74c5fde92323c61c819e  c395eac49569e6741faf98284aef725c   \n",
       "4  e33e767a53a8dceadebc3354221bbf6a  395b163b071e5880e66ac57c5768673e   \n",
       "\n",
       "  brand_name                model_name     os_name os_vendor  \n",
       "0    SAMSUNG  GALAXY J1 ACE (SM-J111F)     Android    Google  \n",
       "1     WALTON                 OLVIO L22         NaN       NaN  \n",
       "2         LG                     W1500       LG OS        LG  \n",
       "3   SYMPHONY                       B13         NaN       NaN  \n",
       "4    SAMSUNG           METRO SM-B350ED  Samsung OS   Samsung  "
      ]
     },
     "metadata": {},
     "output_type": "display_data"
    },
    {
     "data": {
      "text/html": [
       "<div>\n",
       "<style scoped>\n",
       "    .dataframe tbody tr th:only-of-type {\n",
       "        vertical-align: middle;\n",
       "    }\n",
       "\n",
       "    .dataframe tbody tr th {\n",
       "        vertical-align: top;\n",
       "    }\n",
       "\n",
       "    .dataframe thead th {\n",
       "        text-align: right;\n",
       "    }\n",
       "</style>\n",
       "<table border=\"1\" class=\"dataframe\">\n",
       "  <thead>\n",
       "    <tr style=\"text-align: right;\">\n",
       "      <th></th>\n",
       "      <th>msisdn</th>\n",
       "      <th>week_number</th>\n",
       "      <th>revenue_usd</th>\n",
       "    </tr>\n",
       "  </thead>\n",
       "  <tbody>\n",
       "    <tr>\n",
       "      <th>0</th>\n",
       "      <td>66e94d24d8e0d5776a8a6b694782eff0</td>\n",
       "      <td>26</td>\n",
       "      <td>20.265621</td>\n",
       "    </tr>\n",
       "    <tr>\n",
       "      <th>1</th>\n",
       "      <td>66e94d24d8e0d5776a8a6b694782eff0</td>\n",
       "      <td>34</td>\n",
       "      <td>5.361164</td>\n",
       "    </tr>\n",
       "    <tr>\n",
       "      <th>2</th>\n",
       "      <td>66e94d24d8e0d5776a8a6b694782eff0</td>\n",
       "      <td>31</td>\n",
       "      <td>18.181347</td>\n",
       "    </tr>\n",
       "    <tr>\n",
       "      <th>3</th>\n",
       "      <td>66e94d24d8e0d5776a8a6b694782eff0</td>\n",
       "      <td>35</td>\n",
       "      <td>16.857391</td>\n",
       "    </tr>\n",
       "    <tr>\n",
       "      <th>4</th>\n",
       "      <td>66e94d24d8e0d5776a8a6b694782eff0</td>\n",
       "      <td>24</td>\n",
       "      <td>14.392326</td>\n",
       "    </tr>\n",
       "  </tbody>\n",
       "</table>\n",
       "</div>"
      ],
      "text/plain": [
       "                             msisdn  week_number  revenue_usd\n",
       "0  66e94d24d8e0d5776a8a6b694782eff0           26    20.265621\n",
       "1  66e94d24d8e0d5776a8a6b694782eff0           34     5.361164\n",
       "2  66e94d24d8e0d5776a8a6b694782eff0           31    18.181347\n",
       "3  66e94d24d8e0d5776a8a6b694782eff0           35    16.857391\n",
       "4  66e94d24d8e0d5776a8a6b694782eff0           24    14.392326"
      ]
     },
     "metadata": {},
     "output_type": "display_data"
    }
   ],
   "source": [
    "print(\"CRM Data shape: \", crm_df.shape)\n",
    "print(\"Device Data shape: \", device_df.shape)\n",
    "print(\"Revenue Data shape: \", rev_df.shape)\n",
    "\n",
    "# peek into the data\n",
    "display(crm_df.head())\n",
    "display(device_df.head())\n",
    "display(rev_df.head())"
   ]
  },
  {
   "cell_type": "code",
   "execution_count": 12,
   "id": "18f1bf18",
   "metadata": {},
   "outputs": [
    {
     "name": "stdout",
     "output_type": "stream",
     "text": [
      "\n",
      " CRM data\n",
      "<class 'pandas.core.frame.DataFrame'>\n",
      "RangeIndex: 13627493 entries, 0 to 13627492\n",
      "Data columns (total 6 columns):\n",
      " #   Column         Dtype  \n",
      "---  ------         -----  \n",
      " 0   msisdn         object \n",
      " 1   gender         object \n",
      " 2   year_of_birth  float64\n",
      " 3   system_status  object \n",
      " 4   mobile_type    object \n",
      " 5   value_segment  object \n",
      "dtypes: float64(1), object(5)\n",
      "memory usage: 623.8+ MB\n"
     ]
    },
    {
     "data": {
      "text/plain": [
       "None"
      ]
     },
     "metadata": {},
     "output_type": "display_data"
    },
    {
     "data": {
      "text/plain": [
       "msisdn                 0\n",
       "gender           2679804\n",
       "year_of_birth       2940\n",
       "system_status          0\n",
       "mobile_type            0\n",
       "value_segment          0\n",
       "dtype: int64"
      ]
     },
     "metadata": {},
     "output_type": "display_data"
    },
    {
     "name": "stdout",
     "output_type": "stream",
     "text": [
      "\n",
      " Device data:\n",
      "<class 'pandas.core.frame.DataFrame'>\n",
      "RangeIndex: 2440100 entries, 0 to 2440099\n",
      "Data columns (total 6 columns):\n",
      " #   Column      Dtype \n",
      "---  ------      ----- \n",
      " 0   msisdn      object\n",
      " 1   imei_tac    object\n",
      " 2   brand_name  object\n",
      " 3   model_name  object\n",
      " 4   os_name     object\n",
      " 5   os_vendor   object\n",
      "dtypes: object(6)\n",
      "memory usage: 111.7+ MB\n"
     ]
    },
    {
     "data": {
      "text/plain": [
       "None"
      ]
     },
     "metadata": {},
     "output_type": "display_data"
    },
    {
     "data": {
      "text/plain": [
       "msisdn             0\n",
       "imei_tac           0\n",
       "brand_name     30446\n",
       "model_name     30446\n",
       "os_name       677714\n",
       "os_vendor     660472\n",
       "dtype: int64"
      ]
     },
     "metadata": {},
     "output_type": "display_data"
    },
    {
     "name": "stdout",
     "output_type": "stream",
     "text": [
      "\n",
      " Revenue data \n",
      "<class 'pandas.core.frame.DataFrame'>\n",
      "RangeIndex: 1704601 entries, 0 to 1704600\n",
      "Data columns (total 3 columns):\n",
      " #   Column       Dtype  \n",
      "---  ------       -----  \n",
      " 0   msisdn       object \n",
      " 1   week_number  int64  \n",
      " 2   revenue_usd  float64\n",
      "dtypes: float64(1), int64(1), object(1)\n",
      "memory usage: 39.0+ MB\n"
     ]
    },
    {
     "data": {
      "text/plain": [
       "None"
      ]
     },
     "metadata": {},
     "output_type": "display_data"
    },
    {
     "ename": "AttributeError",
     "evalue": "'function' object has no attribute 'sum'",
     "output_type": "error",
     "traceback": [
      "\u001b[31m---------------------------------------------------------------------------\u001b[39m",
      "\u001b[31mAttributeError\u001b[39m                            Traceback (most recent call last)",
      "\u001b[36mCell\u001b[39m\u001b[36m \u001b[39m\u001b[32mIn[12]\u001b[39m\u001b[32m, line 13\u001b[39m\n\u001b[32m     11\u001b[39m \u001b[38;5;28mprint\u001b[39m(\u001b[33m\"\u001b[39m\u001b[38;5;130;01m\\n\u001b[39;00m\u001b[33m Revenue data \u001b[39m\u001b[33m\"\u001b[39m)\n\u001b[32m     12\u001b[39m display(rev_df.info())\n\u001b[32m---> \u001b[39m\u001b[32m13\u001b[39m display(\u001b[43mrev_df\u001b[49m\u001b[43m.\u001b[49m\u001b[43misnull\u001b[49m\u001b[43m.\u001b[49m\u001b[43msum\u001b[49m())\n",
      "\u001b[31mAttributeError\u001b[39m: 'function' object has no attribute 'sum'"
     ]
    }
   ],
   "source": [
    "# check missing values and dtypes\n",
    "\n",
    "print(\"\\n CRM data\")\n",
    "display(crm_df.info())\n",
    "display(crm_df.isnull().sum())\n",
    "\n",
    "print(\"\\n Device data:\")\n",
    "display(device_df.info())\n",
    "display(device_df.isnull().sum())\n",
    "\n",
    "print(\"\\n Revenue data \")\n",
    "display(rev_df.info())\n",
    "display(rev_df.isnull.sum())"
   ]
  },
  {
   "cell_type": "code",
   "execution_count": 13,
   "id": "a2e8c94a",
   "metadata": {},
   "outputs": [
    {
     "name": "stdout",
     "output_type": "stream",
     "text": [
      "Assurance data\n",
      "<class 'pandas.core.frame.DataFrame'>\n",
      "RangeIndex: 1000 entries, 0 to 999\n",
      "Data columns (total 5 columns):\n",
      " #   Column               Non-Null Count  Dtype  \n",
      "---  ------               --------------  -----  \n",
      " 0   CustomerID           1000 non-null   object \n",
      " 1   CallDurationMinutes  1000 non-null   float64\n",
      " 2   DataUsageGB          1000 non-null   float64\n",
      " 3   SubscriptionPlan     1000 non-null   object \n",
      " 4   IsBillingAnomaly     1000 non-null   int64  \n",
      "dtypes: float64(2), int64(1), object(2)\n",
      "memory usage: 39.2+ KB\n"
     ]
    },
    {
     "data": {
      "text/plain": [
       "None"
      ]
     },
     "metadata": {},
     "output_type": "display_data"
    },
    {
     "data": {
      "text/plain": [
       "CustomerID             0\n",
       "CallDurationMinutes    0\n",
       "DataUsageGB            0\n",
       "SubscriptionPlan       0\n",
       "IsBillingAnomaly       0\n",
       "dtype: int64"
      ]
     },
     "metadata": {},
     "output_type": "display_data"
    }
   ],
   "source": [
    "print(\"Assurance data\")\n",
    "display(assurance_df.info())\n",
    "display(assurance_df.isnull().sum())"
   ]
  },
  {
   "cell_type": "code",
   "execution_count": null,
   "id": "5cd9bb08",
   "metadata": {},
   "outputs": [],
   "source": [
    "i"
   ]
  }
 ],
 "metadata": {
  "kernelspec": {
   "display_name": "venv",
   "language": "python",
   "name": "python3"
  },
  "language_info": {
   "codemirror_mode": {
    "name": "ipython",
    "version": 3
   },
   "file_extension": ".py",
   "mimetype": "text/x-python",
   "name": "python",
   "nbconvert_exporter": "python",
   "pygments_lexer": "ipython3",
   "version": "3.12.0"
  }
 },
 "nbformat": 4,
 "nbformat_minor": 5
}
