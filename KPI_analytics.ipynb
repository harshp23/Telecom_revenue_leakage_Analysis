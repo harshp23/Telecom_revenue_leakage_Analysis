{
 "cells": [
  {
   "cell_type": "code",
   "execution_count": 4,
   "id": "ed3d83fc",
   "metadata": {},
   "outputs": [
    {
     "name": "stderr",
     "output_type": "stream",
     "text": [
      "C:\\Users\\harsh\\AppData\\Local\\Temp\\ipykernel_14144\\1957941901.py:4: DtypeWarning: Columns (17) have mixed types. Specify dtype option on import or set low_memory=False.\n",
      "  df = pd.read_csv(r\"C:\\Users\\harsh\\OneDrive\\Desktop\\data analysis\\Revenue_leakage and KPI analytics project\\data\\cleaned\\engineered_data.csv\")\n"
     ]
    }
   ],
   "source": [
    "import pandas as pd\n",
    "import numpy as np\n",
    "\n",
    "df = pd.read_csv(r\"C:\\Users\\harsh\\OneDrive\\Desktop\\data analysis\\Revenue_leakage and KPI analytics project\\data\\cleaned\\engineered_data.csv\")\n"
   ]
  },
  {
   "cell_type": "code",
   "execution_count": 10,
   "id": "90d36fe6",
   "metadata": {},
   "outputs": [
    {
     "name": "stderr",
     "output_type": "stream",
     "text": [
      "C:\\Users\\harsh\\AppData\\Local\\Temp\\ipykernel_14144\\3317831702.py:5: SettingWithCopyWarning: \n",
      "A value is trying to be set on a copy of a slice from a DataFrame.\n",
      "Try using .loc[row_indexer,col_indexer] = value instead\n",
      "\n",
      "See the caveats in the documentation: https://pandas.pydata.org/pandas-docs/stable/user_guide/indexing.html#returning-a-view-versus-a-copy\n",
      "  filtered_df['week_number'] = pd.to_numeric(filtered_df['week_number'], errors='coerce')\n"
     ]
    }
   ],
   "source": [
    "# Only keep rows with both msisdn and week_number\n",
    "filtered_df = df.dropna(subset=['msisdn', 'week_number'])\n",
    "\n",
    "# Make sure week_number is numeric\n",
    "filtered_df['week_number'] = pd.to_numeric(filtered_df['week_number'], errors='coerce')\n",
    "filtered_df = filtered_df.dropna(subset=['week_number'])\n"
   ]
  },
  {
   "cell_type": "code",
   "execution_count": 11,
   "id": "7a0f245b",
   "metadata": {},
   "outputs": [],
   "source": [
    "kpi_df = filtered_df.groupby('msisdn').agg(\n",
    "    total_revenue=('revenue_usd', 'sum'),\n",
    "    active_weeks=('week_number', pd.Series.nunique)\n",
    ").reset_index()\n",
    "\n",
    "# Avoid divide-by-zero\n",
    "kpi_df['avg_revenue_per_week'] = kpi_df['total_revenue'] / kpi_df['active_weeks']\n",
    "kpi_df = kpi_df.replace([np.inf, -np.inf], np.nan).dropna(subset=['avg_revenue_per_week'])\n"
   ]
  },
  {
   "cell_type": "code",
   "execution_count": 12,
   "id": "f8a161d2",
   "metadata": {},
   "outputs": [],
   "source": [
    "kpi_df.to_csv(r\"C:\\Users\\harsh\\OneDrive\\Desktop\\data analysis\\Revenue_leakage and KPI analytics project\\data\\cleaned\\kpi_by_user.csv\", index=False)\n"
   ]
  },
  {
   "cell_type": "code",
   "execution_count": 13,
   "id": "bac458b6",
   "metadata": {},
   "outputs": [
    {
     "name": "stdout",
     "output_type": "stream",
     "text": [
      "0    False\n",
      "1    False\n",
      "2    False\n",
      "3    False\n",
      "4    False\n",
      "Name: is_zero_revenue_but_active, dtype: bool\n"
     ]
    }
   ],
   "source": [
    "# active users with zero revenue\n",
    "kpi_df['is_zero_revenue_but_active'] = (kpi_df['total_revenue']==0)&(kpi_df['active_weeks']>0)\n",
    "print(kpi_df['is_zero_revenue_but_active'].head())"
   ]
  },
  {
   "cell_type": "code",
   "execution_count": 14,
   "id": "a530164a",
   "metadata": {},
   "outputs": [],
   "source": [
    "# get threshold for high activity and low revenue for high usage and low revenue kpi\n",
    "high_activity_threshold = kpi_df['active_weeks'].quantile(0.75)\n",
    "low_revenue_threshold = kpi_df['avg_revenue_per_week'].quantile(0.25)\n",
    "\n",
    "# high usage but low revenue users\n",
    "kpi_df['is_high_usage_low_revenue']=(\n",
    "    (kpi_df['active_weeks'] >=high_activity_threshold) &\n",
    "    (kpi_df['avg_revenue_per_week'] <=low_revenue_threshold)\n",
    ")"
   ]
  },
  {
   "cell_type": "code",
   "execution_count": 15,
   "id": "8ff9f24a",
   "metadata": {},
   "outputs": [],
   "source": [
    "kpi_df.to_csv(r\"C:\\Users\\harsh\\OneDrive\\Desktop\\data analysis\\Revenue_leakage and KPI analytics project\\data\\cleaned\\kpi_by_user.csv\")"
   ]
  },
  {
   "cell_type": "code",
   "execution_count": 16,
   "id": "92086159",
   "metadata": {},
   "outputs": [
    {
     "ename": "KeyError",
     "evalue": "\"['is_zero_revenue_but-active'] not found in axis\"",
     "output_type": "error",
     "traceback": [
      "\u001b[31m---------------------------------------------------------------------------\u001b[39m",
      "\u001b[31mKeyError\u001b[39m                                  Traceback (most recent call last)",
      "\u001b[36mCell\u001b[39m\u001b[36m \u001b[39m\u001b[32mIn[16]\u001b[39m\u001b[32m, line 1\u001b[39m\n\u001b[32m----> \u001b[39m\u001b[32m1\u001b[39m \u001b[43mkpi_df\u001b[49m\u001b[43m.\u001b[49m\u001b[43mdrop\u001b[49m\u001b[43m(\u001b[49m\u001b[43mcolumns\u001b[49m\u001b[43m=\u001b[49m\u001b[43m[\u001b[49m\u001b[33;43m'\u001b[39;49m\u001b[33;43mis_zero_revenue_but-active\u001b[39;49m\u001b[33;43m'\u001b[39;49m\u001b[43m]\u001b[49m\u001b[43m,\u001b[49m\u001b[43minplace\u001b[49m\u001b[43m=\u001b[49m\u001b[38;5;28;43;01mTrue\u001b[39;49;00m\u001b[43m)\u001b[49m\n",
      "\u001b[36mFile \u001b[39m\u001b[32mc:\\Users\\harsh\\OneDrive\\Desktop\\data analysis\\Revenue_leakage and KPI analytics project\\venv\\Lib\\site-packages\\pandas\\core\\frame.py:5588\u001b[39m, in \u001b[36mDataFrame.drop\u001b[39m\u001b[34m(self, labels, axis, index, columns, level, inplace, errors)\u001b[39m\n\u001b[32m   5440\u001b[39m \u001b[38;5;28;01mdef\u001b[39;00m\u001b[38;5;250m \u001b[39m\u001b[34mdrop\u001b[39m(\n\u001b[32m   5441\u001b[39m     \u001b[38;5;28mself\u001b[39m,\n\u001b[32m   5442\u001b[39m     labels: IndexLabel | \u001b[38;5;28;01mNone\u001b[39;00m = \u001b[38;5;28;01mNone\u001b[39;00m,\n\u001b[32m   (...)\u001b[39m\u001b[32m   5449\u001b[39m     errors: IgnoreRaise = \u001b[33m\"\u001b[39m\u001b[33mraise\u001b[39m\u001b[33m\"\u001b[39m,\n\u001b[32m   5450\u001b[39m ) -> DataFrame | \u001b[38;5;28;01mNone\u001b[39;00m:\n\u001b[32m   5451\u001b[39m \u001b[38;5;250m    \u001b[39m\u001b[33;03m\"\"\"\u001b[39;00m\n\u001b[32m   5452\u001b[39m \u001b[33;03m    Drop specified labels from rows or columns.\u001b[39;00m\n\u001b[32m   5453\u001b[39m \n\u001b[32m   (...)\u001b[39m\u001b[32m   5586\u001b[39m \u001b[33;03m            weight  1.0     0.8\u001b[39;00m\n\u001b[32m   5587\u001b[39m \u001b[33;03m    \"\"\"\u001b[39;00m\n\u001b[32m-> \u001b[39m\u001b[32m5588\u001b[39m     \u001b[38;5;28;01mreturn\u001b[39;00m \u001b[38;5;28;43msuper\u001b[39;49m\u001b[43m(\u001b[49m\u001b[43m)\u001b[49m\u001b[43m.\u001b[49m\u001b[43mdrop\u001b[49m\u001b[43m(\u001b[49m\n\u001b[32m   5589\u001b[39m \u001b[43m        \u001b[49m\u001b[43mlabels\u001b[49m\u001b[43m=\u001b[49m\u001b[43mlabels\u001b[49m\u001b[43m,\u001b[49m\n\u001b[32m   5590\u001b[39m \u001b[43m        \u001b[49m\u001b[43maxis\u001b[49m\u001b[43m=\u001b[49m\u001b[43maxis\u001b[49m\u001b[43m,\u001b[49m\n\u001b[32m   5591\u001b[39m \u001b[43m        \u001b[49m\u001b[43mindex\u001b[49m\u001b[43m=\u001b[49m\u001b[43mindex\u001b[49m\u001b[43m,\u001b[49m\n\u001b[32m   5592\u001b[39m \u001b[43m        \u001b[49m\u001b[43mcolumns\u001b[49m\u001b[43m=\u001b[49m\u001b[43mcolumns\u001b[49m\u001b[43m,\u001b[49m\n\u001b[32m   5593\u001b[39m \u001b[43m        \u001b[49m\u001b[43mlevel\u001b[49m\u001b[43m=\u001b[49m\u001b[43mlevel\u001b[49m\u001b[43m,\u001b[49m\n\u001b[32m   5594\u001b[39m \u001b[43m        \u001b[49m\u001b[43minplace\u001b[49m\u001b[43m=\u001b[49m\u001b[43minplace\u001b[49m\u001b[43m,\u001b[49m\n\u001b[32m   5595\u001b[39m \u001b[43m        \u001b[49m\u001b[43merrors\u001b[49m\u001b[43m=\u001b[49m\u001b[43merrors\u001b[49m\u001b[43m,\u001b[49m\n\u001b[32m   5596\u001b[39m \u001b[43m    \u001b[49m\u001b[43m)\u001b[49m\n",
      "\u001b[36mFile \u001b[39m\u001b[32mc:\\Users\\harsh\\OneDrive\\Desktop\\data analysis\\Revenue_leakage and KPI analytics project\\venv\\Lib\\site-packages\\pandas\\core\\generic.py:4807\u001b[39m, in \u001b[36mNDFrame.drop\u001b[39m\u001b[34m(self, labels, axis, index, columns, level, inplace, errors)\u001b[39m\n\u001b[32m   4805\u001b[39m \u001b[38;5;28;01mfor\u001b[39;00m axis, labels \u001b[38;5;129;01min\u001b[39;00m axes.items():\n\u001b[32m   4806\u001b[39m     \u001b[38;5;28;01mif\u001b[39;00m labels \u001b[38;5;129;01mis\u001b[39;00m \u001b[38;5;129;01mnot\u001b[39;00m \u001b[38;5;28;01mNone\u001b[39;00m:\n\u001b[32m-> \u001b[39m\u001b[32m4807\u001b[39m         obj = \u001b[43mobj\u001b[49m\u001b[43m.\u001b[49m\u001b[43m_drop_axis\u001b[49m\u001b[43m(\u001b[49m\u001b[43mlabels\u001b[49m\u001b[43m,\u001b[49m\u001b[43m \u001b[49m\u001b[43maxis\u001b[49m\u001b[43m,\u001b[49m\u001b[43m \u001b[49m\u001b[43mlevel\u001b[49m\u001b[43m=\u001b[49m\u001b[43mlevel\u001b[49m\u001b[43m,\u001b[49m\u001b[43m \u001b[49m\u001b[43merrors\u001b[49m\u001b[43m=\u001b[49m\u001b[43merrors\u001b[49m\u001b[43m)\u001b[49m\n\u001b[32m   4809\u001b[39m \u001b[38;5;28;01mif\u001b[39;00m inplace:\n\u001b[32m   4810\u001b[39m     \u001b[38;5;28mself\u001b[39m._update_inplace(obj)\n",
      "\u001b[36mFile \u001b[39m\u001b[32mc:\\Users\\harsh\\OneDrive\\Desktop\\data analysis\\Revenue_leakage and KPI analytics project\\venv\\Lib\\site-packages\\pandas\\core\\generic.py:4849\u001b[39m, in \u001b[36mNDFrame._drop_axis\u001b[39m\u001b[34m(self, labels, axis, level, errors, only_slice)\u001b[39m\n\u001b[32m   4847\u001b[39m         new_axis = axis.drop(labels, level=level, errors=errors)\n\u001b[32m   4848\u001b[39m     \u001b[38;5;28;01melse\u001b[39;00m:\n\u001b[32m-> \u001b[39m\u001b[32m4849\u001b[39m         new_axis = \u001b[43maxis\u001b[49m\u001b[43m.\u001b[49m\u001b[43mdrop\u001b[49m\u001b[43m(\u001b[49m\u001b[43mlabels\u001b[49m\u001b[43m,\u001b[49m\u001b[43m \u001b[49m\u001b[43merrors\u001b[49m\u001b[43m=\u001b[49m\u001b[43merrors\u001b[49m\u001b[43m)\u001b[49m\n\u001b[32m   4850\u001b[39m     indexer = axis.get_indexer(new_axis)\n\u001b[32m   4852\u001b[39m \u001b[38;5;66;03m# Case for non-unique axis\u001b[39;00m\n\u001b[32m   4853\u001b[39m \u001b[38;5;28;01melse\u001b[39;00m:\n",
      "\u001b[36mFile \u001b[39m\u001b[32mc:\\Users\\harsh\\OneDrive\\Desktop\\data analysis\\Revenue_leakage and KPI analytics project\\venv\\Lib\\site-packages\\pandas\\core\\indexes\\base.py:7136\u001b[39m, in \u001b[36mIndex.drop\u001b[39m\u001b[34m(self, labels, errors)\u001b[39m\n\u001b[32m   7134\u001b[39m \u001b[38;5;28;01mif\u001b[39;00m mask.any():\n\u001b[32m   7135\u001b[39m     \u001b[38;5;28;01mif\u001b[39;00m errors != \u001b[33m\"\u001b[39m\u001b[33mignore\u001b[39m\u001b[33m\"\u001b[39m:\n\u001b[32m-> \u001b[39m\u001b[32m7136\u001b[39m         \u001b[38;5;28;01mraise\u001b[39;00m \u001b[38;5;167;01mKeyError\u001b[39;00m(\u001b[33mf\u001b[39m\u001b[33m\"\u001b[39m\u001b[38;5;132;01m{\u001b[39;00mlabels[mask].tolist()\u001b[38;5;132;01m}\u001b[39;00m\u001b[33m not found in axis\u001b[39m\u001b[33m\"\u001b[39m)\n\u001b[32m   7137\u001b[39m     indexer = indexer[~mask]\n\u001b[32m   7138\u001b[39m \u001b[38;5;28;01mreturn\u001b[39;00m \u001b[38;5;28mself\u001b[39m.delete(indexer)\n",
      "\u001b[31mKeyError\u001b[39m: \"['is_zero_revenue_but-active'] not found in axis\""
     ]
    }
   ],
   "source": [
    "kpi_df.drop(columns=['is_zero_revenue_but-active'],inplace=True)"
   ]
  },
  {
   "cell_type": "code",
   "execution_count": 17,
   "id": "a8003596",
   "metadata": {},
   "outputs": [
    {
     "data": {
      "text/plain": [
       "['msisdn',\n",
       " 'total_revenue',\n",
       " 'active_weeks',\n",
       " 'avg_revenue_per_week',\n",
       " 'is_zero_revenue_but_active',\n",
       " 'is_high_usage_low_revenue']"
      ]
     },
     "execution_count": 17,
     "metadata": {},
     "output_type": "execute_result"
    }
   ],
   "source": [
    "kpi_df.columns.tolist()"
   ]
  },
  {
   "cell_type": "code",
   "execution_count": 18,
   "id": "9c91add0",
   "metadata": {},
   "outputs": [],
   "source": [
    "kpi_df.to_csv(r\"C:\\Users\\harsh\\OneDrive\\Desktop\\data analysis\\Revenue_leakage and KPI analytics project\\data\\cleaned\\kpi_by_user.csv\")"
   ]
  },
  {
   "cell_type": "code",
   "execution_count": 17,
   "id": "6c2c2aa3",
   "metadata": {},
   "outputs": [],
   "source": [
    "# Revenue segmentation "
   ]
  },
  {
   "cell_type": "code",
   "execution_count": 19,
   "id": "d1b5bc23",
   "metadata": {},
   "outputs": [],
   "source": [
    "kpi_df['revenue_segment'] = pd.qcut(\n",
    "    kpi_df['avg_revenue_per_week'],\n",
    "    q=4,\n",
    "    labels=['Low','Medium','High','Very High']\n",
    ")\n"
   ]
  },
  {
   "cell_type": "code",
   "execution_count": 20,
   "id": "66a30408",
   "metadata": {},
   "outputs": [
    {
     "name": "stdout",
     "output_type": "stream",
     "text": [
      "revenue_segment\n",
      "Low          24338\n",
      "Medium       24338\n",
      "Very High    24338\n",
      "High         24337\n",
      "Name: count, dtype: int64\n"
     ]
    }
   ],
   "source": [
    "segment_count = kpi_df['revenue_segment'].value_counts()\n",
    "print(segment_count)"
   ]
  },
  {
   "cell_type": "code",
   "execution_count": 21,
   "id": "e748adda",
   "metadata": {},
   "outputs": [
    {
     "name": "stdout",
     "output_type": "stream",
     "text": [
      "is_zero_revenue_but_active\n",
      "False    97351\n",
      "Name: count, dtype: int64\n"
     ]
    }
   ],
   "source": [
    "print(kpi_df['is_zero_revenue_but_active'].value_counts())"
   ]
  },
  {
   "cell_type": "code",
   "execution_count": 22,
   "id": "a8104b97",
   "metadata": {},
   "outputs": [
    {
     "name": "stdout",
     "output_type": "stream",
     "text": [
      "is_high_usage_low_revenue\n",
      "False    83749\n",
      "True     13602\n",
      "Name: count, dtype: int64\n"
     ]
    }
   ],
   "source": [
    "print(kpi_df['is_high_usage_low_revenue'].value_counts())"
   ]
  },
  {
   "cell_type": "code",
   "execution_count": 23,
   "id": "4e1a47dd",
   "metadata": {},
   "outputs": [
    {
     "name": "stderr",
     "output_type": "stream",
     "text": [
      "C:\\Users\\harsh\\AppData\\Local\\Temp\\ipykernel_14144\\3864983619.py:1: DtypeWarning: Columns (17) have mixed types. Specify dtype option on import or set low_memory=False.\n",
      "  engineer_df = pd.read_csv(r\"C:\\Users\\harsh\\OneDrive\\Desktop\\data analysis\\Revenue_leakage and KPI analytics project\\data\\cleaned\\engineered_data.csv\")\n"
     ]
    },
    {
     "data": {
      "text/plain": [
       "['msisdn',\n",
       " 'gender',\n",
       " 'year_of_birth',\n",
       " 'system_status',\n",
       " 'mobile_type',\n",
       " 'value_segment',\n",
       " 'imei_tac',\n",
       " 'brand_name',\n",
       " 'model_name',\n",
       " 'os_name',\n",
       " 'os_vendor',\n",
       " 'week_number',\n",
       " 'revenue_usd',\n",
       " 'age',\n",
       " 'device_segment',\n",
       " 'avg_weekly_revenue',\n",
       " 'is_gender_missing',\n",
       " 'revenue_category']"
      ]
     },
     "execution_count": 23,
     "metadata": {},
     "output_type": "execute_result"
    }
   ],
   "source": [
    "engineer_df = pd.read_csv(r\"C:\\Users\\harsh\\OneDrive\\Desktop\\data analysis\\Revenue_leakage and KPI analytics project\\data\\cleaned\\engineered_data.csv\")\n",
    "engineer_df.columns.tolist()"
   ]
  },
  {
   "cell_type": "code",
   "execution_count": 25,
   "id": "26d03988",
   "metadata": {},
   "outputs": [],
   "source": [
    "# combine leakage indicator\n",
    "kpi_df['is_revenue_leakage']= (\n",
    "    (kpi_df['is_zero_revenue_but_active']) |\n",
    "    (kpi_df['is_high_usage_low_revenue'])\n",
    ")"
   ]
  },
  {
   "cell_type": "code",
   "execution_count": null,
   "id": "8cd095a1",
   "metadata": {},
   "outputs": [
    {
     "name": "stdout",
     "output_type": "stream",
     "text": [
      "Potential Revenue Leakage Users : 13602\n"
     ]
    },
    {
     "data": {
      "text/html": [
       "<div>\n",
       "<style scoped>\n",
       "    .dataframe tbody tr th:only-of-type {\n",
       "        vertical-align: middle;\n",
       "    }\n",
       "\n",
       "    .dataframe tbody tr th {\n",
       "        vertical-align: top;\n",
       "    }\n",
       "\n",
       "    .dataframe thead th {\n",
       "        text-align: right;\n",
       "    }\n",
       "</style>\n",
       "<table border=\"1\" class=\"dataframe\">\n",
       "  <thead>\n",
       "    <tr style=\"text-align: right;\">\n",
       "      <th></th>\n",
       "      <th>msisdn</th>\n",
       "      <th>total_revenue</th>\n",
       "      <th>active_weeks</th>\n",
       "      <th>avg_revenue_per_week</th>\n",
       "      <th>is_zero_revenue_but_active</th>\n",
       "      <th>is_high_usage_low_revenue</th>\n",
       "      <th>revenue_segment</th>\n",
       "      <th>is_revenue_leakage</th>\n",
       "    </tr>\n",
       "  </thead>\n",
       "  <tbody>\n",
       "    <tr>\n",
       "      <th>5</th>\n",
       "      <td>0002b98e027e03cc6ffc266c18f8e6bc</td>\n",
       "      <td>146.887161</td>\n",
       "      <td>14</td>\n",
       "      <td>10.491940</td>\n",
       "      <td>False</td>\n",
       "      <td>True</td>\n",
       "      <td>Low</td>\n",
       "      <td>True</td>\n",
       "    </tr>\n",
       "    <tr>\n",
       "      <th>20</th>\n",
       "      <td>001299709d14b07c5ed55d497fe7e6cf</td>\n",
       "      <td>147.212282</td>\n",
       "      <td>14</td>\n",
       "      <td>10.515163</td>\n",
       "      <td>False</td>\n",
       "      <td>True</td>\n",
       "      <td>Low</td>\n",
       "      <td>True</td>\n",
       "    </tr>\n",
       "    <tr>\n",
       "      <th>26</th>\n",
       "      <td>0015ba2901be893fbb88a7bad0c38fcb</td>\n",
       "      <td>129.039265</td>\n",
       "      <td>14</td>\n",
       "      <td>9.217090</td>\n",
       "      <td>False</td>\n",
       "      <td>True</td>\n",
       "      <td>Low</td>\n",
       "      <td>True</td>\n",
       "    </tr>\n",
       "    <tr>\n",
       "      <th>33</th>\n",
       "      <td>001bb38768d4b469cf516acfd4bbe796</td>\n",
       "      <td>135.171542</td>\n",
       "      <td>14</td>\n",
       "      <td>9.655110</td>\n",
       "      <td>False</td>\n",
       "      <td>True</td>\n",
       "      <td>Low</td>\n",
       "      <td>True</td>\n",
       "    </tr>\n",
       "    <tr>\n",
       "      <th>53</th>\n",
       "      <td>002681d3e4ee62ac6dec560370561e59</td>\n",
       "      <td>138.447116</td>\n",
       "      <td>14</td>\n",
       "      <td>9.889080</td>\n",
       "      <td>False</td>\n",
       "      <td>True</td>\n",
       "      <td>Low</td>\n",
       "      <td>True</td>\n",
       "    </tr>\n",
       "  </tbody>\n",
       "</table>\n",
       "</div>"
      ],
      "text/plain": [
       "                              msisdn  total_revenue  active_weeks  \\\n",
       "5   0002b98e027e03cc6ffc266c18f8e6bc     146.887161            14   \n",
       "20  001299709d14b07c5ed55d497fe7e6cf     147.212282            14   \n",
       "26  0015ba2901be893fbb88a7bad0c38fcb     129.039265            14   \n",
       "33  001bb38768d4b469cf516acfd4bbe796     135.171542            14   \n",
       "53  002681d3e4ee62ac6dec560370561e59     138.447116            14   \n",
       "\n",
       "    avg_revenue_per_week  is_zero_revenue_but_active  \\\n",
       "5              10.491940                       False   \n",
       "20             10.515163                       False   \n",
       "26              9.217090                       False   \n",
       "33              9.655110                       False   \n",
       "53              9.889080                       False   \n",
       "\n",
       "    is_high_usage_low_revenue revenue_segment  is_revenue_leakage  \n",
       "5                        True             Low                True  \n",
       "20                       True             Low                True  \n",
       "26                       True             Low                True  \n",
       "33                       True             Low                True  \n",
       "53                       True             Low                True  "
      ]
     },
     "execution_count": 28,
     "metadata": {},
     "output_type": "execute_result"
    }
   ],
   "source": [
    "# count how many users flagged\n",
    "leakage_count = kpi_df['is_revenue_leakage'].sum()\n",
    "print(f\"Potential Revenue Leakage Users : {leakage_count}\")\n",
    "\n",
    "leakage_users = kpi_df[kpi_df['is_revenue_leakage']]\n",
    "leakage_users.head()\n"
   ]
  },
  {
   "cell_type": "code",
   "execution_count": 26,
   "id": "95e8042e",
   "metadata": {},
   "outputs": [
    {
     "name": "stderr",
     "output_type": "stream",
     "text": [
      "C:\\Users\\harsh\\AppData\\Local\\Temp\\ipykernel_14144\\4241174783.py:13: FutureWarning: Downcasting object dtype arrays on .fillna, .ffill, .bfill is deprecated and will change in a future version. Call result.infer_objects(copy=False) instead. To opt-in to the future behavior, set `pd.set_option('future.no_silent_downcasting', True)`\n",
      "  final_leakage_data['is_revenue_leakage'] = final_leakage_data['is_revenue_leakage'].fillna(False)\n"
     ]
    }
   ],
   "source": [
    "engineer_df = engineer_df.drop_duplicates(subset='msisdn')\n",
    "\n",
    "\n",
    "# Merge on msisdn\n",
    "final_leakage_data = pd.merge(\n",
    "    engineer_df,\n",
    "    kpi_df[['msisdn','is_revenue_leakage']],\n",
    "    on='msisdn',\n",
    "    how='left'\n",
    ")\n",
    "\n",
    "# fill missing leakage flags with false (non_leakage users)\n",
    "final_leakage_data['is_revenue_leakage'] = final_leakage_data['is_revenue_leakage'].fillna(False)\n",
    "\n"
   ]
  },
  {
   "cell_type": "code",
   "execution_count": 3,
   "id": "06da9e1e",
   "metadata": {},
   "outputs": [
    {
     "ename": "NameError",
     "evalue": "name 'final_leakage_data' is not defined",
     "output_type": "error",
     "traceback": [
      "\u001b[31m---------------------------------------------------------------------------\u001b[39m",
      "\u001b[31mNameError\u001b[39m                                 Traceback (most recent call last)",
      "\u001b[36mCell\u001b[39m\u001b[36m \u001b[39m\u001b[32mIn[3]\u001b[39m\u001b[32m, line 1\u001b[39m\n\u001b[32m----> \u001b[39m\u001b[32m1\u001b[39m \u001b[43mfinal_leakage_data\u001b[49m.to_csv(\u001b[33mr\u001b[39m\u001b[33m\"\u001b[39m\u001b[33mC:\u001b[39m\u001b[33m\\\u001b[39m\u001b[33mUsers\u001b[39m\u001b[33m\\\u001b[39m\u001b[33mharsh\u001b[39m\u001b[33m\\\u001b[39m\u001b[33mOneDrive\u001b[39m\u001b[33m\\\u001b[39m\u001b[33mDesktop\u001b[39m\u001b[33m\\\u001b[39m\u001b[33mdata analysis\u001b[39m\u001b[33m\\\u001b[39m\u001b[33mRevenue_leakage and KPI analytics project\u001b[39m\u001b[33m\\\u001b[39m\u001b[33mdata\u001b[39m\u001b[33m\\\u001b[39m\u001b[33mcleaned\u001b[39m\u001b[33m\\\u001b[39m\u001b[33mfinal_leakage_data.csv\u001b[39m\u001b[33m\"\u001b[39m)\n",
      "\u001b[31mNameError\u001b[39m: name 'final_leakage_data' is not defined"
     ]
    }
   ],
   "source": [
    "final_leakage_data.to_csv(r\"C:\\Users\\harsh\\OneDrive\\Desktop\\data analysis\\Revenue_leakage and KPI analytics project\\data\\cleaned\\final_leakage_data.csv\")"
   ]
  },
  {
   "cell_type": "code",
   "execution_count": 27,
   "id": "529a40a7",
   "metadata": {},
   "outputs": [
    {
     "data": {
      "text/plain": [
       "['msisdn',\n",
       " 'gender',\n",
       " 'year_of_birth',\n",
       " 'system_status',\n",
       " 'mobile_type',\n",
       " 'value_segment',\n",
       " 'imei_tac',\n",
       " 'brand_name',\n",
       " 'model_name',\n",
       " 'os_name',\n",
       " 'os_vendor',\n",
       " 'week_number',\n",
       " 'revenue_usd',\n",
       " 'age',\n",
       " 'device_segment',\n",
       " 'avg_weekly_revenue',\n",
       " 'is_gender_missing',\n",
       " 'revenue_category',\n",
       " 'is_revenue_leakage']"
      ]
     },
     "execution_count": 27,
     "metadata": {},
     "output_type": "execute_result"
    }
   ],
   "source": [
    "final_leakage_data.columns.tolist()"
   ]
  },
  {
   "cell_type": "code",
   "execution_count": 28,
   "id": "6cd6760a",
   "metadata": {},
   "outputs": [
    {
     "data": {
      "text/plain": [
       "is_revenue_leakage\n",
       "False    11235568\n",
       "True        13602\n",
       "Name: count, dtype: int64"
      ]
     },
     "execution_count": 28,
     "metadata": {},
     "output_type": "execute_result"
    }
   ],
   "source": [
    "final_leakage_data['is_revenue_leakage'].value_counts()"
   ]
  },
  {
   "cell_type": "code",
   "execution_count": 39,
   "id": "e758696b",
   "metadata": {},
   "outputs": [
    {
     "data": {
      "text/plain": [
       "total_revenue    float64\n",
       "active_weeks       int64\n",
       "dtype: object"
      ]
     },
     "execution_count": 39,
     "metadata": {},
     "output_type": "execute_result"
    }
   ],
   "source": [
    "kpi_df[['total_revenue','active_weeks']].dtypes"
   ]
  },
  {
   "cell_type": "code",
   "execution_count": 40,
   "id": "81e3e3a8",
   "metadata": {},
   "outputs": [
    {
     "data": {
      "text/plain": [
       "is_revenue_leakage\n",
       "False    83749\n",
       "True     13602\n",
       "Name: count, dtype: int64"
      ]
     },
     "execution_count": 40,
     "metadata": {},
     "output_type": "execute_result"
    }
   ],
   "source": [
    "kpi_df['is_revenue_leakage'].value_counts()"
   ]
  },
  {
   "cell_type": "code",
   "execution_count": 43,
   "id": "385838ed",
   "metadata": {},
   "outputs": [
    {
     "name": "stdout",
     "output_type": "stream",
     "text": [
      "False\n",
      "True\n"
     ]
    }
   ],
   "source": [
    "print(engineer_df['msisdn'].is_unique)\n",
    "print(kpi_df['msisdn'].is_unique)"
   ]
  },
  {
   "cell_type": "code",
   "execution_count": 2,
   "id": "d73aa0eb",
   "metadata": {},
   "outputs": [
    {
     "ename": "NameError",
     "evalue": "name 'final_leakage_data' is not defined",
     "output_type": "error",
     "traceback": [
      "\u001b[31m---------------------------------------------------------------------------\u001b[39m",
      "\u001b[31mNameError\u001b[39m                                 Traceback (most recent call last)",
      "\u001b[36mCell\u001b[39m\u001b[36m \u001b[39m\u001b[32mIn[2]\u001b[39m\u001b[32m, line 2\u001b[39m\n\u001b[32m      1\u001b[39m \u001b[38;5;66;03m# for visualization we will drop some unnecessary columns from daata\u001b[39;00m\n\u001b[32m----> \u001b[39m\u001b[32m2\u001b[39m \u001b[43mfinal_leakage_data\u001b[49m.isnull.sum()\n",
      "\u001b[31mNameError\u001b[39m: name 'final_leakage_data' is not defined"
     ]
    }
   ],
   "source": [
    "# for visualization we will drop some unnecessary columns from daata\n",
    "final_leakage_data.isnull.sum()"
   ]
  },
  {
   "cell_type": "code",
   "execution_count": 1,
   "id": "745b5672",
   "metadata": {},
   "outputs": [
    {
     "name": "stderr",
     "output_type": "stream",
     "text": [
      "C:\\Users\\harsh\\AppData\\Local\\Temp\\ipykernel_11252\\1086424864.py:2: DtypeWarning: Columns (18) have mixed types. Specify dtype option on import or set low_memory=False.\n",
      "  df = pd.read_csv(r\"C:\\Users\\harsh\\OneDrive\\Desktop\\data analysis\\Revenue_leakage and KPI analytics project\\data\\cleaned\\final_leakage_data.csv\")\n"
     ]
    },
    {
     "data": {
      "text/plain": [
       "avg_weekly_revenue\n",
       "14.804682    1\n",
       "10.805290    1\n",
       "14.746683    1\n",
       "9.618943     1\n",
       "12.121832    1\n",
       "            ..\n",
       "12.321476    1\n",
       "8.680809     1\n",
       "10.114989    1\n",
       "9.348162     1\n",
       "11.814107    1\n",
       "Name: count, Length: 97351, dtype: int64"
      ]
     },
     "execution_count": 1,
     "metadata": {},
     "output_type": "execute_result"
    }
   ],
   "source": [
    "import pandas as pd\n",
    "df = pd.read_csv(r\"C:\\Users\\harsh\\OneDrive\\Desktop\\data analysis\\Revenue_leakage and KPI analytics project\\data\\cleaned\\final_leakage_data.csv\")\n",
    "\n",
    "df['week_number'].value_counts()\n",
    "df['revenue_usd'].value_counts()\n",
    "df['avg_weekly_revenue'].value_counts()"
   ]
  },
  {
   "cell_type": "code",
   "execution_count": 4,
   "id": "df27fbfe",
   "metadata": {},
   "outputs": [
    {
     "name": "stdout",
     "output_type": "stream",
     "text": [
      "total number of rows are 11249170\n",
      "null week number are 11151819\n",
      "Rows week contains actual number 97351\n"
     ]
    }
   ],
   "source": [
    "total_rows = len(df)\n",
    "print(\"total number of rows are\",total_rows)\n",
    "\n",
    "print(f\"null week number are {df['week_number'].isnull().sum()}\")\n",
    "print(f\"Rows week contains actual number {df['week_number'].notnull().sum()}\")"
   ]
  },
  {
   "cell_type": "code",
   "execution_count": 7,
   "id": "ccf84d02",
   "metadata": {},
   "outputs": [
    {
     "name": "stdout",
     "output_type": "stream",
     "text": [
      "total number of rows are  11249170\n",
      "Total number of rows having null values for columnweek_number are 11151819\n",
      "Total number of rows with actual values for columnweek_number are 97351\n",
      "total number of rows are  11249170\n",
      "Total number of rows having null values for columnrevenue_usd are 11151819\n",
      "Total number of rows with actual values for columnrevenue_usd are 97351\n",
      "total number of rows are  11249170\n",
      "Total number of rows having null values for columnavg_weekly_revenue are 11151819\n",
      "Total number of rows with actual values for columnavg_weekly_revenue are 97351\n"
     ]
    }
   ],
   "source": [
    "def counts(col_name):\n",
    "    total_rows = len(df)\n",
    "    print(f\"total number of rows are \",total_rows)\n",
    "    print(f\"Total number of rows having null values for column{col_name} are {df[col_name].isnull().sum()}\")\n",
    "    print(f\"Total number of rows with actual values for column{col_name} are {df[col_name].notnull().sum()}\")\n",
    "\n",
    "col_name = ['week_number','revenue_usd','avg_weekly_revenue']\n",
    "\n",
    "for col in col_name:\n",
    "    counts(col)"
   ]
  },
  {
   "cell_type": "code",
   "execution_count": 8,
   "id": "7859cee8",
   "metadata": {},
   "outputs": [
    {
     "name": "stdout",
     "output_type": "stream",
     "text": [
      "Customer: 13620180\n",
      "Revenue: 1704601\n",
      "Device: 2409654\n",
      "KPI by user: 97351\n"
     ]
    }
   ],
   "source": [
    "customer_df = pd.read_csv(r\"C:\\Users\\harsh\\OneDrive\\Desktop\\data analysis\\Revenue_leakage and KPI analytics project\\data\\cleaned\\customer_df.csv\")\n",
    "device_df = pd.read_csv(r\"C:\\Users\\harsh\\OneDrive\\Desktop\\data analysis\\Revenue_leakage and KPI analytics project\\data\\cleaned\\device_data.csv\")\n",
    "revenue_df = pd.read_csv(r\"C:\\Users\\harsh\\OneDrive\\Desktop\\data analysis\\Revenue_leakage and KPI analytics project\\data\\cleaned\\Revenue_data.csv\")\n",
    "kpi_df = pd.read_csv(r\"C:\\Users\\harsh\\OneDrive\\Desktop\\data analysis\\Revenue_leakage and KPI analytics project\\data\\cleaned\\kpi_by_user.csv\")\n",
    "\n",
    "print(\"Customer:\", len(customer_df))\n",
    "print(\"Revenue:\", len(revenue_df))\n",
    "print(\"Device:\", len(device_df))\n",
    "print(\"KPI by user:\", len(kpi_df))\n",
    "\n"
   ]
  },
  {
   "cell_type": "code",
   "execution_count": 1,
   "id": "22bf7d58",
   "metadata": {},
   "outputs": [
    {
     "name": "stderr",
     "output_type": "stream",
     "text": [
      "C:\\Users\\harsh\\AppData\\Local\\Temp\\ipykernel_9856\\115247913.py:2: DtypeWarning: Columns (18) have mixed types. Specify dtype option on import or set low_memory=False.\n",
      "  df = pd.read_csv(r\"C:\\Users\\harsh\\OneDrive\\Desktop\\data analysis\\Revenue_leakage and KPI analytics project\\data\\cleaned\\final_leakage_data.csv\")\n"
     ]
    }
   ],
   "source": [
    "import pandas as pd\n",
    "df = pd.read_csv(r\"C:\\Users\\harsh\\OneDrive\\Desktop\\data analysis\\Revenue_leakage and KPI analytics project\\data\\cleaned\\final_leakage_data.csv\")"
   ]
  },
  {
   "cell_type": "code",
   "execution_count": 3,
   "id": "ec5e6242",
   "metadata": {},
   "outputs": [
    {
     "name": "stdout",
     "output_type": "stream",
     "text": [
      "gender\n",
      "male             8107375\n",
      "unknown          1803692\n",
      "female           1138580\n",
      "not available     193089\n",
      "m                   5672\n",
      "u                    319\n",
      "f                    163\n",
      "other                 95\n",
      ".                     51\n",
      "3                     29\n",
      "female.               16\n",
      "]                     11\n",
      "`                      9\n",
      "female]                7\n",
      "+                      6\n",
      "fe                     4\n",
      "~                      4\n",
      "female`                3\n",
      "b                      3\n",
      "p                      2\n",
      "femal                  2\n",
      "1                      2\n",
      "female3                2\n",
      "s                      2\n",
      "a                      2\n",
      "0                      2\n",
      "\\\\                     2\n",
      "d                      2\n",
      "female..               1\n",
      "femele                 1\n",
      "0.0-                   1\n",
      "qqqq                   1\n",
      "!                      1\n",
      "male.                  1\n",
      "q                      1\n",
      "femal]e                1\n",
      "df                     1\n",
      "``                     1\n",
      "mafele                 1\n",
      "ma                     1\n",
      "mfeale                 1\n",
      "mal                    1\n",
      "333                    1\n",
      "o                      1\n",
      "```                    1\n",
      "21                     1\n",
      "femalef                1\n",
      "pr                     1\n",
      "my                     1\n",
      "6                      1\n",
      "swdwdxw                1\n",
      "femaleh                1\n",
      "Name: count, dtype: int64\n"
     ]
    }
   ],
   "source": [
    "df['gender'] = df['gender'].astype(str).str.strip().str.lower()\n",
    "print(df['gender'].value_counts())"
   ]
  },
  {
   "cell_type": "code",
   "execution_count": 4,
   "id": "48851d9b",
   "metadata": {},
   "outputs": [
    {
     "name": "stdout",
     "output_type": "stream",
     "text": [
      "gender\n",
      "Male       8113052\n",
      "Unknown    1997336\n",
      "Female     1138782\n",
      "Name: count, dtype: int64\n"
     ]
    }
   ],
   "source": [
    "# Define known values\n",
    "male_vals = ['male', 'm', 'male.', 'mal', 'ma', 'mfeale', 'mafele', 'man']\n",
    "female_vals = ['female', 'f', 'female.', 'fe', 'femal', 'femal.', 'femele', 'femal]e',\n",
    "               'femalef', 'female3', 'female]', 'female`', 'female..', 'femaleh']\n",
    "unknown_vals = ['unknown', 'not available', 'other', 'u', '.', ']', '`', '+', '~', 'b', \n",
    "                'p', '1', '3', '0', '0.0-', '\\\\\\\\', 'a', 'd', '!', 'q', 'qqqq', 'df', \n",
    "                '``', 'o', '```', '21', 'pr', 'my', '6', 's', 'swdwdxw']\n",
    "\n",
    "def standardize_gender(g):\n",
    "    if g in male_vals:\n",
    "        return 'Male'\n",
    "    elif g in female_vals:\n",
    "        return 'Female'\n",
    "    elif g in unknown_vals:\n",
    "        return 'Unknown'\n",
    "    else:\n",
    "        return 'Unknown'\n",
    "    \n",
    "df['gender'] = df['gender'].apply(standardize_gender)\n",
    "\n",
    "print(df['gender'].value_counts())"
   ]
  },
  {
   "cell_type": "code",
   "execution_count": 5,
   "id": "7e914441",
   "metadata": {},
   "outputs": [],
   "source": [
    "df.to_csv(r\"C:\\Users\\harsh\\OneDrive\\Desktop\\data analysis\\Revenue_leakage and KPI analytics project\\data\\cleaned\\final_leakage_data.csv\")"
   ]
  },
  {
   "cell_type": "code",
   "execution_count": null,
   "id": "590faddb",
   "metadata": {},
   "outputs": [],
   "source": []
  }
 ],
 "metadata": {
  "kernelspec": {
   "display_name": "venv",
   "language": "python",
   "name": "python3"
  },
  "language_info": {
   "codemirror_mode": {
    "name": "ipython",
    "version": 3
   },
   "file_extension": ".py",
   "mimetype": "text/x-python",
   "name": "python",
   "nbconvert_exporter": "python",
   "pygments_lexer": "ipython3",
   "version": "3.12.0"
  }
 },
 "nbformat": 4,
 "nbformat_minor": 5
}
