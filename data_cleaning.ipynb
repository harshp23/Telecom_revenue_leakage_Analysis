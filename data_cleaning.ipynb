{
 "cells": [
  {
   "cell_type": "code",
   "execution_count": 1,
   "id": "cd5b66f6",
   "metadata": {},
   "outputs": [],
   "source": [
    "import pandas as pd\n",
    "import numpy as np\n",
    "\n",
    "# load all csv\n",
    "\n",
    "crm_df = pd.read_csv(r\"C:\\Users\\harsh\\OneDrive\\Desktop\\data analysis\\Revenue_leakage and KPI analytics project\\data\\raw\\crm1.csv\")\n",
    "device_df = pd.read_csv(r\"C:\\Users\\harsh\\OneDrive\\Desktop\\data analysis\\Revenue_leakage and KPI analytics project\\data\\raw\\device1.csv\")\n",
    "rev_df = pd.read_csv(r\"C:\\Users\\harsh\\OneDrive\\Desktop\\data analysis\\Revenue_leakage and KPI analytics project\\data\\raw\\rev1.csv\")\n",
    "assurance_df = pd.read_csv(r\"C:\\Users\\harsh\\OneDrive\\Desktop\\data analysis\\Revenue_leakage and KPI analytics project\\data\\raw\\telecom_revenue_assurance_dataset.csv\")"
   ]
  },
  {
   "cell_type": "code",
   "execution_count": 9,
   "id": "e6ffaa98",
   "metadata": {},
   "outputs": [],
   "source": [
    "def clean_summary(df, name):\n",
    "    print(f\"\\n Summary for: {name}\")\n",
    "    print(\"Shape:\", df.shape)\n",
    "    print(\"Missing Values:\\n\", df.isnull().sum())\n",
    "    print(\"Duplicates:\", df.duplicated().sum())\n",
    "    print(\"Data Types:\\n\", df.dtypes)\n",
    "\n"
   ]
  },
  {
   "cell_type": "code",
   "execution_count": 10,
   "id": "58ad8a84",
   "metadata": {},
   "outputs": [
    {
     "name": "stdout",
     "output_type": "stream",
     "text": [
      "\n",
      " Summary for: CRM\n",
      "Shape: (13627493, 6)\n",
      "Missing Values:\n",
      " msisdn                 0\n",
      "gender           2679804\n",
      "year_of_birth       2940\n",
      "system_status          0\n",
      "mobile_type            0\n",
      "value_segment          0\n",
      "dtype: int64\n",
      "Duplicates: 4373\n",
      "Data Types:\n",
      " msisdn            object\n",
      "gender            object\n",
      "year_of_birth    float64\n",
      "system_status     object\n",
      "mobile_type       object\n",
      "value_segment     object\n",
      "dtype: object\n",
      "\n",
      " Summary for: Device\n",
      "Shape: (2440100, 6)\n",
      "Missing Values:\n",
      " msisdn             0\n",
      "imei_tac           0\n",
      "brand_name     30446\n",
      "model_name     30446\n",
      "os_name       677714\n",
      "os_vendor     660472\n",
      "dtype: int64\n",
      "Duplicates: 0\n",
      "Data Types:\n",
      " msisdn        object\n",
      "imei_tac      object\n",
      "brand_name    object\n",
      "model_name    object\n",
      "os_name       object\n",
      "os_vendor     object\n",
      "dtype: object\n",
      "\n",
      " Summary for: Revenue\n",
      "Shape: (1704601, 3)\n",
      "Missing Values:\n",
      " msisdn         0\n",
      "week_number    0\n",
      "revenue_usd    0\n",
      "dtype: int64\n",
      "Duplicates: 0\n",
      "Data Types:\n",
      " msisdn          object\n",
      "week_number      int64\n",
      "revenue_usd    float64\n",
      "dtype: object\n",
      "\n",
      " Summary for: Assurance\n",
      "Shape: (1000, 5)\n",
      "Missing Values:\n",
      " CustomerID             0\n",
      "CallDurationMinutes    0\n",
      "DataUsageGB            0\n",
      "SubscriptionPlan       0\n",
      "IsBillingAnomaly       0\n",
      "dtype: int64\n",
      "Duplicates: 0\n",
      "Data Types:\n",
      " CustomerID              object\n",
      "CallDurationMinutes    float64\n",
      "DataUsageGB            float64\n",
      "SubscriptionPlan        object\n",
      "IsBillingAnomaly         int64\n",
      "dtype: object\n"
     ]
    }
   ],
   "source": [
    "clean_summary(crm_df,\"CRM\")\n",
    "clean_summary(device_df,\"Device\")\n",
    "clean_summary(rev_df,\"Revenue\")\n",
    "clean_summary(assurance_df,\"Assurance\")\n"
   ]
  },
  {
   "cell_type": "code",
   "execution_count": 11,
   "id": "f7c530d5",
   "metadata": {},
   "outputs": [],
   "source": [
    "# drop duplicates\n",
    "crm_df.drop_duplicates(inplace=True)\n",
    "\n",
    "# drops rows with null year_of_birth cause there are very few rows\n",
    "crm_df = crm_df[crm_df['year_of_birth'].notna()]\n",
    "\n",
    "# Convert year_of_birth to Int64\n",
    "crm_df['year_of_birth'] = crm_df['year_of_birth'].astype('Int64')\n",
    "\n",
    "# fill missing genders as 'unknown'\n",
    "crm_df['gender']= crm_df['gender'].fillna('Unknown')\n",
    "\n",
    "# standardize column names \n",
    "crm_df.columns = crm_df.columns.str.lower()"
   ]
  },
  {
   "cell_type": "code",
   "execution_count": 14,
   "id": "257420a7",
   "metadata": {},
   "outputs": [
    {
     "name": "stdout",
     "output_type": "stream",
     "text": [
      "(13620180, 6)\n"
     ]
    }
   ],
   "source": [
    "print(crm_df.shape)"
   ]
  },
  {
   "cell_type": "code",
   "execution_count": null,
   "id": "b470c9c7",
   "metadata": {},
   "outputs": [],
   "source": [
    "# drop rows where both brand and model are missing\n",
    "device_df = device_df[~(device_df['brand_name'].isnull() & device_df['model_name'].isnull())]\n",
    "\n",
    "# fill missing os and vendor as \"unknown\"\n",
    "device_df['os_name'] = device_df['os_name'].fillna(\"unknown\")\n",
    "device_df['os_vendor'] = device_df['os_vendor'].fillna(\"unknown\")\n",
    "\n",
    "# standardize column names\n",
    "\n",
    "device_df.columns = device_df.columns.str.lower()\n"
   ]
  },
  {
   "cell_type": "code",
   "execution_count": 16,
   "id": "eb06ff8a",
   "metadata": {},
   "outputs": [
    {
     "name": "stdout",
     "output_type": "stream",
     "text": [
      "(2409654, 6)\n"
     ]
    }
   ],
   "source": [
    "print(device_df.shape)"
   ]
  },
  {
   "cell_type": "code",
   "execution_count": 17,
   "id": "d1517241",
   "metadata": {},
   "outputs": [],
   "source": [
    "# Remove any negative revenue if exists\n",
    "rev_df = rev_df[rev_df['revenue_usd']>=0]\n",
    "\n",
    "# standardize column names\n",
    "rev_df.columns =rev_df.columns.str.lower()"
   ]
  },
  {
   "cell_type": "code",
   "execution_count": 18,
   "id": "5febe8ca",
   "metadata": {},
   "outputs": [],
   "source": [
    "# standardize column names\n",
    "assurance_df.columns = assurance_df.columns.str.lower()\n",
    "\n",
    "# Rename CustomerID to msisdn if it maps to the same user\n",
    "assurance_df.rename(columns={'customerid':'msisdn'},inplace=True)"
   ]
  },
  {
   "cell_type": "code",
   "execution_count": 19,
   "id": "96649f08",
   "metadata": {},
   "outputs": [],
   "source": [
    "crm_df.reset_index(drop=True, inplace=True)\n",
    "device_df.reset_index(drop=True, inplace=True)\n",
    "rev_df.reset_index(drop=True, inplace=True)\n",
    "assurance_df.reset_index(drop=True, inplace=True)\n"
   ]
  },
  {
   "cell_type": "code",
   "execution_count": 20,
   "id": "16e1e909",
   "metadata": {},
   "outputs": [
    {
     "name": "stdout",
     "output_type": "stream",
     "text": [
      "shape of merged_df : (15044939, 13)\n"
     ]
    }
   ],
   "source": [
    "# merging CRM, Device and Revenue data\n",
    "\n",
    "crm_device_df = pd.merge(crm_df,device_df, on='msisdn',how=\"left\")\n",
    "\n",
    "# merge with revenue\n",
    "merged_df = pd.merge(crm_device_df,rev_df,on='msisdn',how='left')\n",
    "\n",
    "# final shape\n",
    "print(\"shape of merged_df :\", merged_df.shape)\n"
   ]
  },
  {
   "cell_type": "code",
   "execution_count": 21,
   "id": "df82fed7",
   "metadata": {},
   "outputs": [
    {
     "name": "stdout",
     "output_type": "stream",
     "text": [
      "                             msisdn  gender  year_of_birth system_status  \\\n",
      "0  aeef4233d9ad34e41f7ecf48d64646f8    MALE           1985        ACTIVE   \n",
      "1  2397d009e705bc8a2654cbb3f480cc59    MALE           1958        ACTIVE   \n",
      "2  6f05d738919f9283322bae17dc366bf5    MALE           1976        ACTIVE   \n",
      "3  45352d9d126f86f40c7eee79a82c833c    MALE           1996        ACTIVE   \n",
      "4  959b00a279e2785cfa81728338c324f7  FEMALE           1960        ACTIVE   \n",
      "\n",
      "  mobile_type value_segment imei_tac brand_name model_name os_name os_vendor  \\\n",
      "0     Prepaid        Tier_3      NaN        NaN        NaN     NaN       NaN   \n",
      "1     Prepaid        Tier_3      NaN        NaN        NaN     NaN       NaN   \n",
      "2     Prepaid        Tier_3      NaN        NaN        NaN     NaN       NaN   \n",
      "3     Prepaid        Tier_3      NaN        NaN        NaN     NaN       NaN   \n",
      "4     Prepaid        Tier_3      NaN        NaN        NaN     NaN       NaN   \n",
      "\n",
      "   week_number  revenue_usd  \n",
      "0          NaN          NaN  \n",
      "1          NaN          NaN  \n",
      "2          NaN          NaN  \n",
      "3          NaN          NaN  \n",
      "4          NaN          NaN  \n"
     ]
    }
   ],
   "source": [
    "print(merged_df.head())"
   ]
  },
  {
   "cell_type": "code",
   "execution_count": 24,
   "id": "cfc4019c",
   "metadata": {},
   "outputs": [],
   "source": [
    "merged_df.to_csv(r'C:\\Users\\harsh\\OneDrive\\Desktop\\data analysis\\Revenue_leakage and KPI analytics project\\data\\cleaned\\merged_data.csv',index=False)\n"
   ]
  },
  {
   "cell_type": "code",
   "execution_count": 25,
   "id": "ef1e1592",
   "metadata": {},
   "outputs": [
    {
     "data": {
      "text/plain": [
       "msisdn                  0\n",
       "gender                  0\n",
       "year_of_birth           0\n",
       "system_status           0\n",
       "mobile_type             0\n",
       "value_segment           0\n",
       "imei_tac         12914205\n",
       "brand_name       12914205\n",
       "model_name       12914205\n",
       "os_name          12914205\n",
       "os_vendor        12914205\n",
       "week_number      13543945\n",
       "revenue_usd      13543945\n",
       "dtype: int64"
      ]
     },
     "metadata": {},
     "output_type": "display_data"
    }
   ],
   "source": [
    "display(merged_df.isnull().sum())"
   ]
  },
  {
   "cell_type": "code",
   "execution_count": 27,
   "id": "ca7fe7cd",
   "metadata": {},
   "outputs": [
    {
     "data": {
      "text/plain": [
       "msisdn           0\n",
       "gender           0\n",
       "year_of_birth    0\n",
       "system_status    0\n",
       "mobile_type      0\n",
       "value_segment    0\n",
       "dtype: int64"
      ]
     },
     "metadata": {},
     "output_type": "display_data"
    },
    {
     "data": {
      "text/plain": [
       "msisdn         0\n",
       "week_number    0\n",
       "revenue_usd    0\n",
       "dtype: int64"
      ]
     },
     "metadata": {},
     "output_type": "display_data"
    },
    {
     "data": {
      "text/plain": [
       "msisdn        0\n",
       "imei_tac      0\n",
       "brand_name    0\n",
       "model_name    0\n",
       "os_name       0\n",
       "os_vendor     0\n",
       "dtype: int64"
      ]
     },
     "metadata": {},
     "output_type": "display_data"
    }
   ],
   "source": [
    "display(crm_df.isnull().sum())\n",
    "display(rev_df.isnull().sum())\n",
    "display(device_df.isnull().sum())"
   ]
  },
  {
   "cell_type": "code",
   "execution_count": 28,
   "id": "0ffc0c3e",
   "metadata": {},
   "outputs": [],
   "source": [
    "crm_df.to_csv(r\"C:\\Users\\harsh\\OneDrive\\Desktop\\data analysis\\Revenue_leakage and KPI analytics project\\data\\cleaned\\customer_df.csv\")\n",
    "rev_df.to_csv(r\"C:\\Users\\harsh\\OneDrive\\Desktop\\data analysis\\Revenue_leakage and KPI analytics project\\data\\cleaned\\Revenue_data.csv\")\n",
    "device_df.to_csv(r\"C:\\Users\\harsh\\OneDrive\\Desktop\\data analysis\\Revenue_leakage and KPI analytics project\\data\\cleaned\\device_data.csv\")"
   ]
  },
  {
   "cell_type": "code",
   "execution_count": null,
   "id": "d3646264",
   "metadata": {},
   "outputs": [],
   "source": []
  }
 ],
 "metadata": {
  "kernelspec": {
   "display_name": "venv",
   "language": "python",
   "name": "python3"
  },
  "language_info": {
   "codemirror_mode": {
    "name": "ipython",
    "version": 3
   },
   "file_extension": ".py",
   "mimetype": "text/x-python",
   "name": "python",
   "nbconvert_exporter": "python",
   "pygments_lexer": "ipython3",
   "version": "3.12.0"
  }
 },
 "nbformat": 4,
 "nbformat_minor": 5
}
